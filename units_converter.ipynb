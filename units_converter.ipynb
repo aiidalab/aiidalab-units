{
 "cells": [
  {
   "cell_type": "code",
   "execution_count": null,
   "metadata": {},
   "outputs": [],
   "source": [
    "import ipywidgets as ipw\n",
    "import ase\n",
    "from ase.units import *\n",
    "from __future__ import division"
   ]
  },
  {
   "cell_type": "code",
   "execution_count": null,
   "metadata": {},
   "outputs": [],
   "source": [
    "def on_drop_changed(c):\n",
    "    global factor\n",
    "    lu, ru = drop.value.split(\" <=> \")\n",
    "    left.description = lu\n",
    "    right.description = ru\n",
    "    factor = eval(\"(%s) / (%s)\"%(lu, ru))\n",
    "    on_left_changed(None)\n",
    "\n",
    "options = ['Hartree <=> eV', 'Hartree <=> kcal/mol', 'Bohr <=> Angstrom']\n",
    "drop = ipw.Dropdown(options=options)\n",
    "drop.observe(on_drop_changed)"
   ]
  },
  {
   "cell_type": "code",
   "execution_count": null,
   "metadata": {},
   "outputs": [],
   "source": [
    "def on_left_changed(c):\n",
    "    right.value = left.value * factor\n",
    "\n",
    "def on_right_changed(c):\n",
    "    left.value = right.value / factor"
   ]
  },
  {
   "cell_type": "code",
   "execution_count": null,
   "metadata": {},
   "outputs": [],
   "source": [
    "left = ipw.FloatText(value=1.0)\n",
    "left.observe(on_left_changed, names=\"value\")\n",
    "right = ipw.FloatText()\n",
    "right.observe(on_right_changed, names=\"value\")\n",
    "display(ipw.HBox([drop, left, right]))"
   ]
  },
  {
   "cell_type": "code",
   "execution_count": null,
   "metadata": {},
   "outputs": [],
   "source": [
    "on_drop_changed(None)"
   ]
  }
 ],
 "metadata": {
  "kernelspec": {
   "display_name": "Python 2",
   "language": "python",
   "name": "python2"
  },
  "language_info": {
   "codemirror_mode": {
    "name": "ipython",
    "version": 2
   },
   "file_extension": ".py",
   "mimetype": "text/x-python",
   "name": "python",
   "nbconvert_exporter": "python",
   "pygments_lexer": "ipython2",
   "version": "2.7.13"
  }
 },
 "nbformat": 4,
 "nbformat_minor": 2
}
